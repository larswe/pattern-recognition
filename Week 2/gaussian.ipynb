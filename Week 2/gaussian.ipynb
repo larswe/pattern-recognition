{
 "cells": [
  {
   "cell_type": "markdown",
   "metadata": {},
   "source": [
    "# The Univariate Gaussian"
   ]
  },
  {
   "cell_type": "code",
   "execution_count": 2,
   "metadata": {},
   "outputs": [],
   "source": [
    "import numpy as np\n",
    "import matplotlib.pyplot as plt"
   ]
  },
  {
   "cell_type": "code",
   "execution_count": 41,
   "metadata": {},
   "outputs": [
    {
     "data": {
      "image/png": "[encoded data removed]",
      "text/plain": [
       "<Figure size 432x288 with 1 Axes>"
      ]
     },
     "metadata": {
      "needs_background": "light"
     },
     "output_type": "display_data"
    }
   ],
   "source": [
    "# Draw samples from standard normal distribution\n",
    "N = 1000000\n",
    "mean = 0\n",
    "sd = 1\n",
    "samples = np.random.normal(size=N, loc=mean, scale=sd)\n",
    "\n",
    "# Note min and max values\n",
    "m = samples.min()\n",
    "M = samples.max()\n",
    "\n",
    "# Make discrete bins of width 0.1\n",
    "width = 0.1\n",
    "bins = np.arange(m, M, width)\n",
    "\n",
    "# Note number of samples in each bin\n",
    "counts = np.histogram(samples, bins=bins)[0]\n",
    "\n",
    "# Plot counts\n",
    "plt.bar(bins[:-1], counts, width=width)\n",
    "plt.xlim(m, M)\n",
    "plt.title(\"Histogram of Standard Normal Distribution\")\n",
    "plt.show()"
   ]
  },
  {
   "cell_type": "code",
   "execution_count": 42,
   "metadata": {},
   "outputs": [
    {
     "name": "stdout",
     "output_type": "stream",
     "text": [
      "Proportion of samples within 1 standard deviations: 0.682621\n",
      "Proportion of samples within 2 standard deviations: 0.954298\n",
      "Proportion of samples within 3 standard deviations: 0.997296\n"
     ]
    }
   ],
   "source": [
    "# Add one zero count to counts, to account for \"last bin\"\n",
    "counts_0 = np.append(counts, 0)\n",
    "\n",
    "# Proportion of samples in [-1, 1], [-2, 2] and [-3, 3] (for mean = 0, sd = 1)\t\n",
    "for num_sds in [1, 2, 3]:\n",
    "    count_within = np.sum(counts_0[np.abs(bins - mean) <= num_sds * sd])\n",
    "    print(\"Proportion of samples within\", num_sds, \"standard deviations:\", count_within / N)"
   ]
  },
  {
   "cell_type": "code",
   "execution_count": null,
   "metadata": {},
   "outputs": [],
   "source": []
  }
 ],
 "metadata": {
  "interpreter": {
   "hash": "090ab374938b58c08ae09abc73d05ad7964a13fb875395cd6db6090b0a7c3569"
  },
  "kernelspec": {
   "display_name": "Python 3.9.12 ('mlpr')",
   "language": "python",
   "name": "python3"
  },
  "language_info": {
   "codemirror_mode": {
    "name": "ipython",
    "version": 3
   },
   "file_extension": ".py",
   "mimetype": "text/x-python",
   "name": "python",
   "nbconvert_exporter": "python",
   "pygments_lexer": "ipython3",
   "version": "3.9.12"
  },
  "orig_nbformat": 4
 },
 "nbformat": 4,
 "nbformat_minor": 2
}
